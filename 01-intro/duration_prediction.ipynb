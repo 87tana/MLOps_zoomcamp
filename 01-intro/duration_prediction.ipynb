{
 "cells": [
  {
   "cell_type": "code",
   "execution_count": null,
   "id": "159d31fb",
   "metadata": {},
   "outputs": [],
   "source": [
    "import pandas as pd\n",
    "import sklearn\n",
    "import seaborn as sns\n",
    "import matplotlib.pyplot as plt\n",
    "\n",
    "\n",
    "from sklearn.feature_extraction import DictVectorizer\n",
    "from sklearn.linear_model import LinearRegression\n",
    "from sklearn.metrics import mean_squared_error\n",
    "\n",
    "from sklearn.linear_model import Lasso\n",
    "from sklearn.linear_model import Ridge\n"
   ]
  },
  {
   "cell_type": "code",
   "execution_count": null,
   "id": "8ece2f02",
   "metadata": {},
   "outputs": [],
   "source": [
    "pip install pyarrow"
   ]
  },
  {
   "cell_type": "code",
   "execution_count": null,
   "id": "d49d1aa5",
   "metadata": {},
   "outputs": [],
   "source": [
    "url = \"https://d37ci6vzurychx.cloudfront.net/trip-data/green_tripdata_2021-01.parquet\"\n",
    "df = pd.read_parquet(url, engine=\"pyarrow\")"
   ]
  },
  {
   "cell_type": "code",
   "execution_count": null,
   "id": "19e16989",
   "metadata": {},
   "outputs": [],
   "source": [
    "df.head(3)"
   ]
  },
  {
   "cell_type": "code",
   "execution_count": null,
   "id": "d87e7c13",
   "metadata": {},
   "outputs": [],
   "source": [
    "df.lpep_dropoff_datetime = pd.to_datetime(df.lpep_dropoff_datetime)\n",
    "df.lpep_pickup_datetime = pd.to_datetime(df.lpep_pickup_datetime ) # we need to convert strings to datetime"
   ]
  },
  {
   "cell_type": "code",
   "execution_count": null,
   "id": "6e13bc1f",
   "metadata": {},
   "outputs": [],
   "source": [
    "df.trip_type.unique().tolist()"
   ]
  },
  {
   "cell_type": "code",
   "execution_count": null,
   "id": "f7d22811",
   "metadata": {},
   "outputs": [],
   "source": [
    "# create a new col\n",
    "df['duration'] = df.lpep_dropoff_datetime - df.lpep_pickup_datetime \n",
    "\n",
    "# Convert timedelta to minutes\n",
    "df.duration = df.duration.apply(lambda td: td.total_seconds() / 60)"
   ]
  },
  {
   "cell_type": "code",
   "execution_count": null,
   "id": "fd7913a8",
   "metadata": {},
   "outputs": [],
   "source": [
    "#df = df[df.trip_type == 2] # interested in this type of trip"
   ]
  },
  {
   "cell_type": "code",
   "execution_count": null,
   "id": "7a078936",
   "metadata": {},
   "outputs": [],
   "source": [
    "df.duration.describe(percentiles= [0.95,0.98,0.99 ])"
   ]
  },
  {
   "cell_type": "code",
   "execution_count": null,
   "id": "dd62ce87",
   "metadata": {},
   "outputs": [],
   "source": [
    "# frombuisness point of view, it's imp to pay attention to this --> 98%-> around 1 hour"
   ]
  },
  {
   "cell_type": "code",
   "execution_count": null,
   "id": "d35f904b",
   "metadata": {},
   "outputs": [],
   "source": [
    "# we can do extra filtering, only attention to those trip the at least one minutes.\n",
    "\n",
    "((df.duration >= 1) & (df.duration <= 60)).mean()\n"
   ]
  },
  {
   "cell_type": "code",
   "execution_count": null,
   "id": "39cf7566",
   "metadata": {},
   "outputs": [],
   "source": [
    "df= df[((df.duration >= 1) & (df.duration <= 60))]\n",
    "df # all data regardless of different trip type"
   ]
  },
  {
   "cell_type": "code",
   "execution_count": null,
   "id": "d1addb96",
   "metadata": {},
   "outputs": [],
   "source": [
    "categorical = ['PULocationID','DOLocationID']\n",
    "numerical = ['trip_distance']"
   ]
  },
  {
   "cell_type": "code",
   "execution_count": null,
   "id": "d3e4b209",
   "metadata": {},
   "outputs": [],
   "source": [
    "# let's train a model, "
   ]
  },
  {
   "cell_type": "code",
   "execution_count": null,
   "id": "fbb05e61",
   "metadata": {},
   "outputs": [],
   "source": [
    "df[categorical].dtypes"
   ]
  },
  {
   "cell_type": "code",
   "execution_count": null,
   "id": "b995346a",
   "metadata": {},
   "outputs": [],
   "source": [
    "# for implementing the onehot encoding we can implemnt dictinoary vectorizer\n",
    "# dictionary vectorizer treat everything that is not numbrer as a categorical varible"
   ]
  },
  {
   "cell_type": "code",
   "execution_count": null,
   "id": "fd0f4d96",
   "metadata": {},
   "outputs": [],
   "source": [
    "# Convert int to category when numbers represent labels, not quantities.\n",
    "# we do for clarity, memory efficiency and at the end we encode categories numerically\n",
    "\n",
    "df[categorical].astype(str).dtypes"
   ]
  },
  {
   "cell_type": "code",
   "execution_count": null,
   "id": "cf536f59",
   "metadata": {},
   "outputs": [],
   "source": [
    "df[categorical] = df[categorical].astype(str)"
   ]
  },
  {
   "cell_type": "code",
   "execution_count": null,
   "id": "7cfc6f14",
   "metadata": {},
   "outputs": [],
   "source": [
    "# we have now dataframe, we need dic though"
   ]
  },
  {
   "cell_type": "code",
   "execution_count": null,
   "id": "f0e5c60c",
   "metadata": {},
   "outputs": [],
   "source": [
    "dv = DictVectorizer() # vectorizes a dictionary. dic --> vector"
   ]
  },
  {
   "cell_type": "code",
   "execution_count": null,
   "id": "bcf461cd",
   "metadata": {},
   "outputs": [],
   "source": [
    "df[categorical + numerical].iloc[:10].to_dict(orient='records')"
   ]
  },
  {
   "cell_type": "code",
   "execution_count": null,
   "id": "17837998",
   "metadata": {},
   "outputs": [],
   "source": [
    "#apply to the entire dataframe\n",
    "train_dicts= df[categorical + numerical].to_dict(orient='records')"
   ]
  },
  {
   "cell_type": "code",
   "execution_count": null,
   "id": "227e1b10",
   "metadata": {},
   "outputs": [],
   "source": [
    "# then we can put inside our dictionary vectorizer\n",
    "dv = DictVectorizer()\n",
    "X_train = dv.fit_transform(train_dicts)"
   ]
  },
  {
   "cell_type": "code",
   "execution_count": null,
   "id": "a040aea2",
   "metadata": {},
   "outputs": [],
   "source": [
    "X_train"
   ]
  },
  {
   "cell_type": "code",
   "execution_count": null,
   "id": "16d0dcf4",
   "metadata": {},
   "outputs": [],
   "source": [
    "dv.feature_names_"
   ]
  },
  {
   "cell_type": "code",
   "execution_count": null,
   "id": "b3f24925",
   "metadata": {},
   "outputs": [],
   "source": [
    "target = 'duration'\n",
    "y_train= df[target].values"
   ]
  },
  {
   "cell_type": "code",
   "execution_count": null,
   "id": "1b400c4d",
   "metadata": {},
   "outputs": [],
   "source": [
    "y_train"
   ]
  },
  {
   "cell_type": "code",
   "execution_count": null,
   "id": "5c9e5ec0",
   "metadata": {},
   "outputs": [],
   "source": [
    "# Baseline Model --> Linear Regression"
   ]
  },
  {
   "cell_type": "code",
   "execution_count": null,
   "id": "83d03497",
   "metadata": {},
   "outputs": [],
   "source": [
    "lr = LinearRegression()\n",
    "lr.fit(X_train,y_train)"
   ]
  },
  {
   "cell_type": "code",
   "execution_count": null,
   "id": "29920a57",
   "metadata": {},
   "outputs": [],
   "source": [
    "y_pred = lr.predict(X_train)"
   ]
  },
  {
   "cell_type": "code",
   "execution_count": null,
   "id": "4d8d7f1d",
   "metadata": {},
   "outputs": [],
   "source": [
    "sns.distplot(y_pred, label = 'prediction')\n",
    "sns.distplot(y_train, label = 'actual')\n",
    "\n",
    "plt.legend()"
   ]
  },
  {
   "cell_type": "code",
   "execution_count": null,
   "id": "13cecea9",
   "metadata": {},
   "outputs": [],
   "source": [
    "# prection of actual value is different, lest quatifize that"
   ]
  },
  {
   "cell_type": "code",
   "execution_count": null,
   "id": "143dfb1c",
   "metadata": {},
   "outputs": [],
   "source": [
    "mean_squared_error(y_train, y_pred, squared=False) #  returns the RMSE"
   ]
  },
  {
   "cell_type": "code",
   "execution_count": null,
   "id": "6618a315",
   "metadata": {},
   "outputs": [],
   "source": [
    "# our model is (error)wrong on average by 9 min, it's not ideal\n",
    "# you want to reach somewhere by 30 min, but it turns out thta it take 40 min"
   ]
  },
  {
   "cell_type": "code",
   "execution_count": null,
   "id": "3b3ac664",
   "metadata": {},
   "outputs": [],
   "source": [
    "# - Lasso"
   ]
  },
  {
   "cell_type": "code",
   "execution_count": null,
   "id": "16cc42b6",
   "metadata": {},
   "outputs": [],
   "source": [
    "# create all we did and put all inside a function "
   ]
  },
  {
   "cell_type": "code",
   "execution_count": null,
   "id": "7ea2dda6",
   "metadata": {},
   "outputs": [],
   "source": [
    "# All the preprocessing we need to do: "
   ]
  },
  {
   "cell_type": "code",
   "execution_count": null,
   "id": "884b48b7",
   "metadata": {},
   "outputs": [],
   "source": [
    "def read_dataframe(url):\n",
    "    \n",
    "    df = pd.read_parquet(url, engine=\"pyarrow\")\n",
    "\n",
    "   # url = \"https://d37ci6vzurychx.cloudfront.net/trip-data/green_tripdata_2021-01.parquet\"\n",
    "   # df = pd.read_parquet(url, engine=\"pyarrow\")\n",
    "\n",
    "    df.lpep_dropoff_datetime = pd.to_datetime(df.lpep_dropoff_datetime)\n",
    "    df.lpep_pickup_datetime = pd.to_datetime(df.lpep_pickup_datetime ) \n",
    "\n",
    "    # create a new col\n",
    "    df['duration'] = df.lpep_dropoff_datetime - df.lpep_pickup_datetime \n",
    "\n",
    "    # Convert timedelta to minutes\n",
    "    df.duration = df.duration.apply(lambda td: td.total_seconds() / 60)\n",
    "\n",
    "    df = df[((df.duration >= 1) & (df.duration <= 60))] # intrested in this timeline\n",
    "\n",
    "    categorical = ['PULocationID','DOLocationID'] # only preprocessing for cat\n",
    "    \n",
    "\n",
    "    df[categorical] = df[categorical].astype(str)\n",
    "    \n",
    "    return df"
   ]
  },
  {
   "cell_type": "code",
   "execution_count": null,
   "id": "179bfbc8",
   "metadata": {},
   "outputs": [],
   "source": [
    "# January data = training\n",
    "df_train = read_dataframe(\"https://d37ci6vzurychx.cloudfront.net/trip-data/green_tripdata_2021-01.parquet\")\n",
    "\n",
    "# February data = validation\n",
    "df_val = read_dataframe(\"https://d37ci6vzurychx.cloudfront.net/trip-data/green_tripdata_2021-02.parquet\")\n"
   ]
  },
  {
   "cell_type": "code",
   "execution_count": null,
   "id": "089c5d15",
   "metadata": {},
   "outputs": [],
   "source": [
    "len(df_train), len(df_val)"
   ]
  },
  {
   "cell_type": "code",
   "execution_count": null,
   "id": "d9b40a34",
   "metadata": {},
   "outputs": [],
   "source": [
    "categorical = ['PULocationID','DOLocationID']\n",
    "numerical = ['trip_distance']\n",
    "\n",
    "dv = DictVectorizer()\n",
    "\n",
    "train_dicts= df_train[categorical + numerical].to_dict(orient='records')\n",
    "X_train = dv.fit_transform(train_dicts)\n",
    "\n",
    "val_dicts= df_val[categorical + numerical].to_dict(orient='records')\n",
    "X_val = dv.transform(val_dicts)"
   ]
  },
  {
   "cell_type": "code",
   "execution_count": null,
   "id": "9abcc854",
   "metadata": {},
   "outputs": [],
   "source": [
    "target = 'duration'\n",
    "y_train= df_train[target].values\n",
    "\n",
    "y_val = df_val[target].values"
   ]
  },
  {
   "cell_type": "code",
   "execution_count": null,
   "id": "daea1891",
   "metadata": {},
   "outputs": [],
   "source": [
    "# baseline\n",
    "\n",
    "lr = LinearRegression()\n",
    "lr.fit(X_train,y_train)\n",
    "\n",
    "\n",
    "y_pred = lr.predict(X_val)\n",
    "mean_squared_error(y_val, y_pred, squared=False) "
   ]
  },
  {
   "cell_type": "code",
   "execution_count": null,
   "id": "83edc4da",
   "metadata": {},
   "outputs": [],
   "source": [
    "# lasso\n",
    "\n",
    "lr = Lasso(alpha= 0.001)\n",
    "lr.fit(X_train,y_train)\n",
    "\n",
    "\n",
    "y_pred = lr.predict(X_val)\n",
    "mean_squared_error(y_val, y_pred, squared=False) "
   ]
  },
  {
   "cell_type": "code",
   "execution_count": null,
   "id": "65009e54",
   "metadata": {},
   "outputs": [],
   "source": [
    "# Ridge\n",
    "\n",
    "lr = Ridge()\n",
    "lr.fit(X_train,y_train)\n",
    "\n",
    "\n",
    "y_pred = lr.predict(X_val)\n",
    "mean_squared_error(y_val, y_pred, squared=False) "
   ]
  },
  {
   "cell_type": "code",
   "execution_count": null,
   "id": "3b06a671",
   "metadata": {},
   "outputs": [],
   "source": [
    "#### Do Some Experimentation"
   ]
  },
  {
   "cell_type": "code",
   "execution_count": null,
   "id": "cc1ce878",
   "metadata": {},
   "outputs": [],
   "source": [
    "# we can create another feature \n",
    "# combine e.g., pick ip and drop off"
   ]
  },
  {
   "cell_type": "code",
   "execution_count": null,
   "id": "5b17848b",
   "metadata": {},
   "outputs": [],
   "source": [
    "df_train['PU_DO'] = df_train['PULocationID'] + '_'+  df_train['DOLocationID']\n",
    "\n",
    "df_val['PU_DO'] = df_val['PULocationID'] + '_'+  df_val['DOLocationID']"
   ]
  },
  {
   "cell_type": "code",
   "execution_count": null,
   "id": "5316e63b",
   "metadata": {},
   "outputs": [],
   "source": [
    "categorical =  ['PU_DO'] # ['PULocationID','DOLocationID']\n",
    "numerical = ['trip_distance']\n",
    "\n",
    "dv = DictVectorizer()\n",
    "\n",
    "train_dicts= df_train[categorical + numerical].to_dict(orient='records')\n",
    "X_train = dv.fit_transform(train_dicts)\n",
    "\n",
    "val_dicts= df_val[categorical + numerical].to_dict(orient='records')\n",
    "X_val = dv.transform(val_dicts)"
   ]
  },
  {
   "cell_type": "code",
   "execution_count": null,
   "id": "5c5c206d",
   "metadata": {},
   "outputs": [],
   "source": [
    "target = 'duration'\n",
    "y_train= df_train[target].values\n",
    "\n",
    "y_val = df_val[target].values"
   ]
  },
  {
   "cell_type": "code",
   "execution_count": null,
   "id": "9e7f8513",
   "metadata": {},
   "outputs": [],
   "source": [
    "# baseline  --> here became much better\n",
    "\n",
    "lr = LinearRegression()\n",
    "lr.fit(X_train,y_train)\n",
    "\n",
    "\n",
    "y_pred = lr.predict(X_val)\n",
    "mean_squared_error(y_val, y_pred, squared=False) "
   ]
  },
  {
   "cell_type": "code",
   "execution_count": null,
   "id": "61c19318",
   "metadata": {},
   "outputs": [],
   "source": [
    "# lasso\n",
    "\n",
    "lr = Lasso(alpha= 0.0001)\n",
    "lr.fit(X_train,y_train)\n",
    "\n",
    "\n",
    "y_pred = lr.predict(X_val)\n",
    "mean_squared_error(y_val, y_pred, squared=False) "
   ]
  },
  {
   "cell_type": "code",
   "execution_count": null,
   "id": "c4281093",
   "metadata": {},
   "outputs": [],
   "source": [
    "# Ridge\n",
    "\n",
    "lr = Ridge()\n",
    "lr.fit(X_train,y_train)\n",
    "\n",
    "\n",
    "y_pred = lr.predict(X_val)\n",
    "mean_squared_error(y_val, y_pred, squared=False) "
   ]
  },
  {
   "cell_type": "code",
   "execution_count": null,
   "id": "39a5d697",
   "metadata": {},
   "outputs": [],
   "source": [
    "# we reduced the error quit significantly"
   ]
  },
  {
   "cell_type": "code",
   "execution_count": null,
   "id": "5432d818",
   "metadata": {},
   "outputs": [],
   "source": [
    "# save the model"
   ]
  },
  {
   "cell_type": "code",
   "execution_count": null,
   "id": "01629294",
   "metadata": {},
   "outputs": [],
   "source": [
    "import pickle"
   ]
  },
  {
   "cell_type": "code",
   "execution_count": null,
   "id": "78ae932c",
   "metadata": {},
   "outputs": [],
   "source": [
    "with open('models/lin_reg.bin','wb') as f_out:\n",
    "    pickle.dump((dv, lr), f_out)"
   ]
  },
  {
   "cell_type": "code",
   "execution_count": null,
   "id": "0b65fd87",
   "metadata": {},
   "outputs": [],
   "source": []
  }
 ],
 "metadata": {
  "kernelspec": {
   "display_name": "Python 3 (ipykernel)",
   "language": "python",
   "name": "python3"
  },
  "language_info": {
   "codemirror_mode": {
    "name": "ipython",
    "version": 3
   },
   "file_extension": ".py",
   "mimetype": "text/x-python",
   "name": "python",
   "nbconvert_exporter": "python",
   "pygments_lexer": "ipython3",
   "version": "3.9.12"
  }
 },
 "nbformat": 4,
 "nbformat_minor": 5
}
